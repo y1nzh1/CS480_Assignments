{
 "cells": [
  {
   "cell_type": "markdown",
   "metadata": {},
   "source": [
    "$\\newcommand{\\xv}{\\mathbf{x}}\n",
    "\\newcommand{\\Xv}{\\mathbf{X}}\n",
    "\\newcommand{\\yv}{\\mathbf{y}}\n",
    "\\newcommand{\\zv}{\\mathbf{z}}\n",
    "\\newcommand{\\av}{\\mathbf{a}}\n",
    "\\newcommand{\\Wv}{\\mathbf{W}}\n",
    "\\newcommand{\\wv}{\\mathbf{w}}\n",
    "\\newcommand{\\tv}{\\mathbf{t}}\n",
    "\\newcommand{\\Tv}{\\mathbf{T}}\n",
    "\\newcommand{\\muv}{\\boldsymbol{\\mu}}\n",
    "\\newcommand{\\sigmav}{\\boldsymbol{\\sigma}}\n",
    "\\newcommand{\\phiv}{\\boldsymbol{\\phi}}\n",
    "\\newcommand{\\Phiv}{\\boldsymbol{\\Phi}}\n",
    "\\newcommand{\\Sigmav}{\\boldsymbol{\\Sigma}}\n",
    "\\newcommand{\\Lambdav}{\\boldsymbol{\\Lambda}}\n",
    "\\newcommand{\\half}{\\frac{1}{2}}\n",
    "\\newcommand{\\argmax}[1]{\\underset{#1}{\\operatorname{argmax}}}\n",
    "\\newcommand{\\argmin}[1]{\\underset{#1}{\\operatorname{argmin}}}$"
   ]
  },
  {
   "cell_type": "markdown",
   "metadata": {},
   "source": [
    "# Assignment 4: Classification with LDA and Logistic Regression"
   ]
  },
  {
   "cell_type": "markdown",
   "metadata": {},
   "source": [
    "*Yinzhi Deng* \n",
    "\n",
    "*CSU ID: 830888654*"
   ]
  },
  {
   "cell_type": "markdown",
   "metadata": {},
   "source": [
    "## Overview"
   ]
  },
  {
   "cell_type": "markdown",
   "metadata": {},
   "source": [
    "Compare LDA and linear and nonlinear logistic regression applied to two data sets."
   ]
  },
  {
   "cell_type": "markdown",
   "metadata": {},
   "source": [
    "## Required Code"
   ]
  },
  {
   "cell_type": "markdown",
   "metadata": {},
   "source": [
    "Download [nn2.tar](http://www.cs.colostate.edu/~anderson/cs480/notebooks/nn2.tar) and extract its contents, which are\n",
    "\n",
    "* `neuralnetworks.py`\n",
    "* `scaledconjugategradient.py`\n",
    "* `mlutils.py`\n",
    "\n",
    "as discussed in lecture. \n",
    "\n",
    "Write the following functions that train and evaluate LDA and neural network logistic regression models.\n",
    "\n",
    "* `model = trainLDA(X,T,parameters)`\n",
    "* `percentCorrect = evaluateLDA(model,X,T)`\n",
    "* `model = trainNN(X,T,parameters)`\n",
    "* `percentCorrect = evaluateNN(model,X,T)`\n",
    "The `parameters` argument for `trainNN` is a list of the hidden layers structure and the number of SCG iterations, as in the previous assignment. The value of the `parameters` argument for `trainLDA` is not used.\n",
    "\n",
    "Use the `trainValidateTestKFoldsClassification` function in `mlutils.py` to apply the above functions. \n",
    "\n",
    "The `NeuralNetworkClassifier` class in the above `neuralnetworks.py` file allows you to specify 0 hidden units.  This creates a neural network with just the output layer designed to do classification.  In other words, specify 0 hidden units to apply linear logistic regression."
   ]
  },
  {
   "cell_type": "code",
   "execution_count": 1,
   "metadata": {
    "collapsed": true
   },
   "outputs": [],
   "source": [
    "import numpy as np\n",
    "import matplotlib.pyplot as plt\n",
    "import neuralnetworks as nn\n",
    "import mlutils as ml\n",
    "%matplotlib inline"
   ]
  },
  {
   "cell_type": "code",
   "execution_count": 2,
   "metadata": {
    "collapsed": true
   },
   "outputs": [],
   "source": [
    "import numpy as np\n",
    "import sys # for sys.float_info.epsilon\n",
    "\n",
    "######################################################################\n",
    "### class QDA\n",
    "######################################################################\n",
    "\n",
    "class LDA(object):\n",
    "    \n",
    "    def __init__(self):\n",
    "        # Define all instance variables here. Not necessary\n",
    "        self.means = None\n",
    "        self.stds = None\n",
    "        self.mu = None\n",
    "        self.sigma = None\n",
    "        self.sigmaInv = None\n",
    "        self.prior = None\n",
    "        self.determinant = None\n",
    "        self.discriminantConstant = None\n",
    "\n",
    "    def train(self,X,T):\n",
    "        self.classes = np.unique(T)\n",
    "        self.means, self.stds = np.mean(X,0), np.std(X,0)\n",
    "        Xs = (X - self.means) / self.stds\n",
    "        self.mu = []\n",
    "        self.sigma = []\n",
    "        self.sigmaInv = []\n",
    "        self.determinant = []\n",
    "        self.prior = []\n",
    "        nSamples = X.shape[0]\n",
    "        for k in self.classes:\n",
    "            rowsThisClass = (T == k).reshape((-1))\n",
    "            self.mu.append( np.mean(Xs[rowsThisClass,:],0).reshape((-1,1)) )\n",
    "            self.sigma.append( np.cov(Xs[rowsThisClass,:],rowvar=0) )\n",
    "            if self.sigma[-1].size == 1:\n",
    "                self.sigma[-1] = self.sigma[-1].reshape((1,1))\n",
    "            det = np.linalg.det(self.sigma[-1])\n",
    "            if det == 0:\n",
    "                det = sys.float_info.epsilon\n",
    "            self.determinant.append( det )\n",
    "            self.sigmaInv.append( np.linalg.pinv(self.sigma[-1]) )    # pinv in case Sigma is singular\n",
    "            self.prior.append( np.sum(rowsThisClass) / float(nSamples) )\n",
    "        self._finishTrain()\n",
    "\n",
    "    def _finishTrain(self):\n",
    "        self.sigmaMean = np.sum(np.stack(self.sigma) * np.array(self.prior)[:,np.newaxis,np.newaxis], axis=0)\n",
    "        self.sigmaMeanInv = np.linalg.pinv(self.sigmaMean)\n",
    "        # print(self.sigma)\n",
    "        # print(self.sigmaMean)\n",
    "        self.discriminantConstant = []\n",
    "        self.discriminantCoefficient = []\n",
    "        for ki in range(len(self.classes)):\n",
    "            sigmaMu = np.dot(self.sigmaMeanInv, self.mu[ki])\n",
    "            self.discriminantConstant.append( -0.5 * np.dot(self.mu[ki].T, sigmaMu) )\n",
    "            self.discriminantCoefficient.append( sigmaMu )\n",
    "    \n",
    "    def _discriminantFunction(self,Xs):\n",
    "        D = Xs.shape[0]\n",
    "        nSamples = Xs.shape[0]\n",
    "        discriminants = np.zeros((nSamples, len(self.classes)))\n",
    "        for ki in range(len(self.classes)):\n",
    "            discriminants[:,ki:ki+1] = self.discriminantConstant[ki] + \\\n",
    "                                       np.dot(Xs, self.discriminantCoefficient[ki])\n",
    "        probabilities = np.exp( discriminants - 0.5*D*np.log(2*np.pi) - 0.5*np.log(self.determinant[ki]) \\\n",
    "                               - 0.5*np.sum(np.dot(Xs,self.sigmaMeanInv) * Xs, axis=1).reshape((-1,1)))\n",
    "        return discriminants, probabilities\n",
    "    def use(self,X):\n",
    "        nSamples = X.shape[0]\n",
    "        Xs = (X - self.means) / self.stds\n",
    "        discriminants,probabilities = self._discriminantFunction(Xs)\n",
    "        predictedClass = self.classes[np.argmax( discriminants, axis=1 )]\n",
    "        predictedClass = predictedClass.reshape((-1,1))\n",
    "        D = X.shape[1]\n",
    "        return predictedClass,probabilities,discriminants\n",
    "        \n",
    "    def __repr__(self):\n",
    "        if self.mu is None:\n",
    "            return 'QDA not trained.'\n",
    "        else:\n",
    "            return 'QDA trained for classes {}'.format(self.classes)"
   ]
  },
  {
   "cell_type": "markdown",
   "metadata": {
    "collapsed": false
   },
   "source": [
    "### 1. LDA Part"
   ]
  },
  {
   "cell_type": "code",
   "execution_count": 3,
   "metadata": {
    "collapsed": true
   },
   "outputs": [],
   "source": [
    "def discLDA(X, means,stds, mu, Sigma, prior):\n",
    "    X = (X-means)/stds\n",
    "    if Sigma.size == 1:\n",
    "        Sigma = np.asarray(Sigma).reshape((1,1))\n",
    "    det = np.linalg.det(Sigma)        \n",
    "    # if det == 0:\n",
    "    #    raise np.linalg.LinAlgError('discQDA(): Singular covariance matrix')\n",
    "    SigmaInv = np.linalg.pinv(Sigma)     # pinv in case Sigma is singular\n",
    "    mu = mu.reshape((-1,1)) # make mu a column vector\n",
    "    # pdb.set_trace()\n",
    "    return np.dot(np.dot(X,SigmaInv), mu) - 0.5 * np.dot(np.dot(mu.T,SigmaInv), mu) + np.log(prior)"
   ]
  },
  {
   "cell_type": "code",
   "execution_count": 4,
   "metadata": {
    "collapsed": true
   },
   "outputs": [],
   "source": [
    "def trainLDA(X,T,parameters = None):\n",
    "    lda = LDA()\n",
    "    lda.mu = parameters\n",
    "    lda.train(X,T)\n",
    "    return lda"
   ]
  },
  {
   "cell_type": "code",
   "execution_count": 5,
   "metadata": {
    "collapsed": true
   },
   "outputs": [],
   "source": [
    "def evaluateLDA(model,X,T):\n",
    "    pClass,prob,disc = model.use(X)\n",
    "    #percentCorrect = np.sum(T==pClass) / float(T.shape[0]) * 100\n",
    "    return np.sum(T==pClass) / float(T.shape[0]) * 100"
   ]
  },
  {
   "cell_type": "markdown",
   "metadata": {},
   "source": [
    "### 2. Linear Regression Part"
   ]
  },
  {
   "cell_type": "code",
   "execution_count": 58,
   "metadata": {
    "collapsed": true
   },
   "outputs": [],
   "source": [
    "def makeIndicatorVars(T):\n",
    "    # Make sure T is two-dimensiona. Should be nSamples x 1.\n",
    "    if T.ndim == 1:\n",
    "        T = T.reshape((-1,1))    \n",
    "    return (T == np.unique(T)).astype(int)"
   ]
  },
  {
   "cell_type": "code",
   "execution_count": 59,
   "metadata": {
    "collapsed": true
   },
   "outputs": [],
   "source": [
    "# import pdb\n",
    "def g(X,w):\n",
    "    fs = np.exp(np.dot(X, w))  # N x K-1\n",
    "    denom = (1 + np.sum(fs,axis=1)).reshape((-1,1))\n",
    "    # pdb.set_trace()\n",
    "    gs = fs / denom\n",
    "    # print(gs[:10,:])\n",
    "    return np.hstack((gs,1/denom))"
   ]
  },
  {
   "cell_type": "code",
   "execution_count": 60,
   "metadata": {
    "collapsed": true
   },
   "outputs": [],
   "source": [
    "def standardize(X,mean,stds):\n",
    "    return (X - mean)/stds"
   ]
  },
  {
   "cell_type": "code",
   "execution_count": 61,
   "metadata": {
    "collapsed": true
   },
   "outputs": [],
   "source": [
    "def trainLr(X,T,parameters = None):\n",
    "    means,stds = np.mean(X, 0), np.std(X ,0)\n",
    "    Xs = standardize(X, means, stds)\n",
    "    Xs1 = np.hstack(( np.ones((Xs.shape[0], 1)), Xs))\n",
    "    Ti = makeIndicatorVars(T)\n",
    "    w = np.zeros((Xs1.shape[1], Ti.shape[1]-1))\n",
    "    likelihood = []\n",
    "    alpha = 0.0001\n",
    "    for step in range(1000):\n",
    "        gs = g(Xs1, w)\n",
    "        w = w + alpha * np.dot(Xs1.T, Ti[:, :-1] - gs[:, :-1])\n",
    "        likelihoodPerSample = np.exp( np.sum(Ti * np.log(gs)) / Xs.shape[0])\n",
    "        likelihood.append(likelihoodPerSample)\n",
    "    logregOutput = g(Xs1, w)\n",
    "    return logregOutput"
   ]
  },
  {
   "cell_type": "code",
   "execution_count": 78,
   "metadata": {
    "collapsed": true
   },
   "outputs": [],
   "source": [
    "def evaluateLr(model,X,T):\n",
    "    classes = np.unique(T)\n",
    "    predict = np.argmax(model, axis=1)\n",
    "    result = classes[predict]\n",
    "    return np.sum(result.ravel()==T.ravel()) / float(len(T)) * 100"
   ]
  },
  {
   "cell_type": "code",
   "execution_count": null,
   "metadata": {
    "collapsed": true
   },
   "outputs": [],
   "source": []
  },
  {
   "cell_type": "code",
   "execution_count": null,
   "metadata": {
    "collapsed": true
   },
   "outputs": [],
   "source": []
  },
  {
   "cell_type": "markdown",
   "metadata": {},
   "source": [
    "### 3. Non-Linear Regression Part (Neural Network)"
   ]
  },
  {
   "cell_type": "code",
   "execution_count": 56,
   "metadata": {
    "collapsed": true
   },
   "outputs": [],
   "source": [
    "def trainNN(X,T,parameters):\n",
    "    # the layer number of the inputs and the outputs depends on their elements\n",
    "    input_layer = X.shape[1]\n",
    "    output_layer = len(np.unique(T))\n",
    "    nnet = nn.NeuralNetworkClassifier(input_layer,parameters[0],output_layer)\n",
    "    #nnet = nn.NeuralNetwork(1,parameters[0],1)\n",
    "    return nnet.train(X, T, nIterations=parameters[1])"
   ]
  },
  {
   "cell_type": "code",
   "execution_count": 74,
   "metadata": {
    "collapsed": true
   },
   "outputs": [],
   "source": [
    "def evaluateNN(model,X,T):\n",
    "    predict = model.use(X)\n",
    "    #error = np.sqrt(np.mean((predict - T) ** 2))\n",
    "    #for k in range(len(model)):\n",
    "    #    model[k] = int(model[k])\n",
    "    return np.sum(predict==T) / float(len(T)) * 100"
   ]
  },
  {
   "cell_type": "code",
   "execution_count": 8,
   "metadata": {
    "collapsed": true
   },
   "outputs": [],
   "source": [
    "def printResults(label,results):\n",
    "    print('{:4s} {:>20s}{:>8s}{:>8s}{:>8s}'.format('Algo','Parameters','TrnAcc','ValAcc','TesAcc'))\n",
    "    print('-------------------------------------------------')\n",
    "    for row in results:\n",
    "        # 20 is expected maximum number of characters in printed parameter value list\n",
    "        print('{:>4s} {:>20s} {:7.2f} {:7.2f} {:7.2f}'.format(label,str(row[0]),*row[1:]))"
   ]
  },
  {
   "cell_type": "markdown",
   "metadata": {},
   "source": [
    "## Data"
   ]
  },
  {
   "cell_type": "markdown",
   "metadata": {},
   "source": [
    "### Transfusion Data Set"
   ]
  },
  {
   "cell_type": "markdown",
   "metadata": {},
   "source": [
    "The data I use is called Transfusion Data Set. It was found from http://archive.ics.uci.edu/ml/datasets/Blood+Transfusion+Service+Center and this dataset was taken from the donor database of Blood Transfusion Service Center in Hsin-Chu City in Taiwan\n",
    "\n",
    "And here are the meanings of each attribute below:\n",
    "\n",
    "*R (Recency - months since last donation)*\n",
    "\n",
    "*F (Frequency - total number of donation)*\n",
    "\n",
    "*M (Monetary - total blood donated in c.c.)*\n",
    "\n",
    "*T (Time - months since first donation)*\n",
    "\n",
    "*Donate: a binary variable representing whether he/she donated blood in March 2007 (1 \n",
    "stand for donating blood; 0 stands for not donating blood)*"
   ]
  },
  {
   "cell_type": "markdown",
   "metadata": {},
   "source": [
    "#### 1. Input data"
   ]
  },
  {
   "cell_type": "markdown",
   "metadata": {},
   "source": [
    "The type of original data set is list, so we need to convert it to an numpy array."
   ]
  },
  {
   "cell_type": "code",
   "execution_count": 63,
   "metadata": {
    "collapsed": false
   },
   "outputs": [
    {
     "data": {
      "text/plain": [
       "(746, 5)"
      ]
     },
     "execution_count": 63,
     "metadata": {},
     "output_type": "execute_result"
    }
   ],
   "source": [
    "data = []\n",
    "f = open('transfusion.data','r')\n",
    "for k in range(748):\n",
    "    data.append(f.readline().rstrip().split(','))\n",
    "#print(f.readline().rstrip().split())\n",
    "#for i in range(375):\n",
    "#    data[i].replace(' ','')\n",
    "#for k in range(375):\n",
    "#    data[k] = [int(float(x)) for x in data[k]]\n",
    "data = data[1:-1]\n",
    "for k in range(746):\n",
    "    data[k][0].replace(' ','')\n",
    "    data[k][3].replace(' ','')\n",
    "\n",
    "data = [list(map(int, grp)) for grp in data]\n",
    "data = np.asarray(data)\n",
    "data.shape"
   ]
  },
  {
   "cell_type": "code",
   "execution_count": 64,
   "metadata": {
    "collapsed": false
   },
   "outputs": [
    {
     "data": {
      "text/plain": [
       "(['Recency', 'Frequency', 'Monetary', 'Time'], ['Donate'])"
      ]
     },
     "execution_count": 64,
     "metadata": {},
     "output_type": "execute_result"
    }
   ],
   "source": [
    "names = ['Recency','Frequency','Monetary','Time','Donate']\n",
    "Xname = names[0:4]\n",
    "Tname = names[4:5]\n",
    "Xname,Tname"
   ]
  },
  {
   "cell_type": "code",
   "execution_count": 65,
   "metadata": {
    "collapsed": false
   },
   "outputs": [
    {
     "data": {
      "text/plain": [
       "((746, 4), (746, 1))"
      ]
     },
     "execution_count": 65,
     "metadata": {},
     "output_type": "execute_result"
    }
   ],
   "source": [
    "X = data[:,0:4]\n",
    "T = data[:,4:5]\n",
    "X.shape,T.shape"
   ]
  },
  {
   "cell_type": "markdown",
   "metadata": {},
   "source": [
    "#### 2. Apply LDA and Linear / Non-Linear Regression"
   ]
  },
  {
   "cell_type": "markdown",
   "metadata": {},
   "source": [
    "Apply LDA:"
   ]
  },
  {
   "cell_type": "code",
   "execution_count": 12,
   "metadata": {
    "collapsed": false,
    "scrolled": true
   },
   "outputs": [
    {
     "name": "stdout",
     "output_type": "stream",
     "text": [
      "\n",
      "Algo           Parameters  TrnAcc  ValAcc  TesAcc\n",
      "-------------------------------------------------\n",
      "LDA:                 None   67.68   68.10   51.47\n",
      "LDA:                 None   66.67   69.05   59.26\n",
      "LDA:                 None   63.68   64.38   79.91\n",
      "LDA:                 None   65.22   65.09   78.38\n",
      "LDA:                 None   67.72   71.20   42.95\n",
      "LDA:                 None   64.39   62.60   91.34\n"
     ]
    },
    {
     "name": "stderr",
     "output_type": "stream",
     "text": [
      "//anaconda/lib/python3.5/site-packages/ipykernel/__main__.py:63: RuntimeWarning: invalid value encountered in log\n"
     ]
    }
   ],
   "source": [
    "resultsLDA = ml.trainValidateTestKFoldsClassification( trainLDA,evaluateLDA, X,T, [None],\n",
    "                                                       nFolds=6, shuffle=False,verbose=False)\n",
    "printResults('LDA:',resultsLDA)"
   ]
  },
  {
   "cell_type": "code",
   "execution_count": 41,
   "metadata": {
    "collapsed": false
   },
   "outputs": [],
   "source": [
    "results = np.asarray(resultsLDA)"
   ]
  },
  {
   "cell_type": "code",
   "execution_count": 40,
   "metadata": {
    "collapsed": false
   },
   "outputs": [
    {
     "data": {
      "text/plain": [
       "<matplotlib.text.Text at 0x10f640278>"
      ]
     },
     "execution_count": 40,
     "metadata": {},
     "output_type": "execute_result"
    },
    {
     "data": {
      "image/png": "[encoded data removed]",
      "text/plain": [
       "<matplotlib.figure.Figure at 0x10e7962e8>"
      ]
     },
     "metadata": {},
     "output_type": "display_data"
    }
   ],
   "source": [
    "xaxis = range(len(results))\n",
    "plt.plot(xaxis,results[:,1],'r-',label='TrnAcc')\n",
    "plt.plot(xaxis,results[:,2],'b-',label='ValAcc')\n",
    "plt.plot(xaxis,results[:,3],'g-',label='TesAcc')\n",
    "plt.xlabel('Testing Folds')\n",
    "plt.ylabel('CorrectPencentage')"
   ]
  },
  {
   "cell_type": "code",
   "execution_count": 20,
   "metadata": {
    "collapsed": false
   },
   "outputs": [
    {
     "name": "stdout",
     "output_type": "stream",
     "text": [
      "[array([[ 0.15998989],\n",
      "       [-0.1218918 ],\n",
      "       [-0.1218918 ],\n",
      "       [ 0.01938066]]), array([[-0.51052953],\n",
      "       [ 0.38895809],\n",
      "       [ 0.38895809],\n",
      "       [-0.06184391]])]\n"
     ]
    }
   ],
   "source": [
    "lda = LDA()\n",
    "lda.train(X,T)\n",
    "print(lda.mu)"
   ]
  },
  {
   "cell_type": "markdown",
   "metadata": {},
   "source": [
    "Apply Linear Regression:"
   ]
  },
  {
   "cell_type": "code",
   "execution_count": 80,
   "metadata": {
    "collapsed": false,
    "scrolled": true
   },
   "outputs": [
    {
     "name": "stdout",
     "output_type": "stream",
     "text": [
      "\n"
     ]
    },
    {
     "name": "stderr",
     "output_type": "stream",
     "text": [
      "//anaconda/lib/python3.5/site-packages/ipykernel/__main__.py:5: DeprecationWarning: elementwise == comparison failed; this will raise an error in the future.\n"
     ]
    },
    {
     "name": "stdout",
     "output_type": "stream",
     "text": [
      "Algo           Parameters  TrnAcc  ValAcc  TesAcc\n",
      "-------------------------------------------------\n",
      " Lr:                 None   68.11    0.00    0.00\n",
      " Lr:                 None   67.40    0.00    0.00\n",
      " Lr:                 None   61.65    0.00    0.00\n",
      " Lr:                 None   61.86    0.00    0.00\n",
      " Lr:                 None   66.67    0.00    0.00\n",
      " Lr:                 None   60.75    0.00    0.00\n"
     ]
    }
   ],
   "source": [
    "resultsLr = ml.trainValidateTestKFoldsClassification( trainLr,evaluateLr, X,T, \n",
    "                                                     [None],nFolds=6, shuffle=False,verbose=False)\n",
    "printResults('Lr:',resultsLr)"
   ]
  },
  {
   "cell_type": "markdown",
   "metadata": {},
   "source": [
    "A interesting fact is that there are no values when testing the training model on the validate data and test data. No idea why did that happen."
   ]
  },
  {
   "cell_type": "markdown",
   "metadata": {},
   "source": [
    "Apply Non-Linear Regression:"
   ]
  },
  {
   "cell_type": "code",
   "execution_count": 57,
   "metadata": {
    "collapsed": false,
    "scrolled": true
   },
   "outputs": [
    {
     "name": "stdout",
     "output_type": "stream",
     "text": [
      "\n",
      "Algo           Parameters  TrnAcc  ValAcc  TesAcc\n",
      "-------------------------------------------------\n",
      " NN:          [[10], 100]   68.40   65.87   76.35\n",
      " NN:          [[10], 100]   68.99   65.16   76.52\n",
      " NN:          [[10], 100]   70.45   66.42   70.59\n",
      " NN:          [[10], 100]   71.12   66.50   68.84\n",
      " NN:          [[10], 100]   71.54   68.36   61.24\n",
      " NN:          [[10], 100]   72.64   70.59   49.93\n"
     ]
    }
   ],
   "source": [
    "resultsNN = ml.trainValidateTestKFoldsClassification( trainNN,evaluateNN, X,T, \n",
    "                                                     [ [ [0], 10], [[10], 100] ],\n",
    "                                                     nFolds=6, shuffle=False,verbose=False)\n",
    "printResults('NN:',resultsNN)"
   ]
  },
  {
   "cell_type": "code",
   "execution_count": 42,
   "metadata": {
    "collapsed": true
   },
   "outputs": [],
   "source": [
    "results = np.asarray(resultsNN)"
   ]
  },
  {
   "cell_type": "code",
   "execution_count": 43,
   "metadata": {
    "collapsed": false
   },
   "outputs": [
    {
     "data": {
      "text/plain": [
       "<matplotlib.text.Text at 0x10e7a5a90>"
      ]
     },
     "execution_count": 43,
     "metadata": {},
     "output_type": "execute_result"
    },
    {
     "data": {
      "image/png": "[encoded data removed]",
      "text/plain": [
       "<matplotlib.figure.Figure at 0x10f651a20>"
      ]
     },
     "metadata": {},
     "output_type": "display_data"
    }
   ],
   "source": [
    "xaxis = range(len(results))\n",
    "plt.plot(xaxis,results[:,1],'r-',label='TrnAcc')\n",
    "plt.plot(xaxis,results[:,2],'b-',label='ValAcc')\n",
    "plt.plot(xaxis,results[:,3],'g-',label='TesAcc')\n",
    "plt.xlabel('Testing Folds')\n",
    "plt.ylabel('CorrectPencentage')"
   ]
  },
  {
   "cell_type": "markdown",
   "metadata": {},
   "source": [
    "### Abalone Data Set"
   ]
  },
  {
   "cell_type": "markdown",
   "metadata": {},
   "source": [
    "The data I use is called Abalone Data Set. It was found from http://archive.ics.uci.edu/ml/datasets/Abalone and this dataset was taken from an original (non-machine-learning) study: \n",
    "Warwick J Nash, Tracy L Sellers, Simon R Talbot, Andrew J Cawthorn and Wes B Ford (1994) \n",
    "\"The Population Biology of Abalone (_Haliotis_ species) in Tasmania. I. Blacklip Abalone (_H. rubra_) from the North Coast and Islands of Bass Strait\", \n",
    "Sea Fisheries Division, Technical Report No. 48 (ISSN 1034-3288) \n",
    "\n",
    "And here are the meanings of each attribute below:\n",
    "\n",
    "    Name\t\t     Data Type\t    Meas.\tDescription\n",
    "    ----\t\t     ---------\t    -----\t-----------\n",
    "    Sex\t\t         nominal\t\t\t    M, F, and I (infant)\n",
    "\tLength\t\t     continuous\t   mm\t Longest shell measurement\n",
    "\tDiameter\t     continuous\t     mm\t perpendicular to length\n",
    "\tHeight\t\t     continuous\t   mm\t with meat in shell\n",
    "\tWhole weight\t continuous       grams\twhole abalone\n",
    "\tShucked weight\t continuous\t grams\tweight of meat\n",
    "\tViscera weight\t continuous\t grams\tgut weight (after bleeding)\n",
    "\tShell weight\t continuous\t   grams\tafter being dried\n",
    "\tRings\t\t     integer\t\t\t     +1.5 gives the age in years\n"
   ]
  },
  {
   "cell_type": "code",
   "execution_count": 81,
   "metadata": {
    "collapsed": false
   },
   "outputs": [
    {
     "data": {
      "text/plain": [
       "'%.4f'"
      ]
     },
     "execution_count": 81,
     "metadata": {},
     "output_type": "execute_result"
    }
   ],
   "source": [
    "%precision 4"
   ]
  },
  {
   "cell_type": "code",
   "execution_count": 89,
   "metadata": {
    "collapsed": false
   },
   "outputs": [
    {
     "data": {
      "text/plain": [
       "(4177, 9)"
      ]
     },
     "execution_count": 89,
     "metadata": {},
     "output_type": "execute_result"
    }
   ],
   "source": [
    "data = []\n",
    "f = open('abalone.data','r')\n",
    "\n",
    "for k in range(4177):\n",
    "    data.append(f.readline().rstrip().split(','))\n",
    "\n",
    "# Here I need to change char to float(I-0,M-1,F-2), so that I can study them\n",
    "for k in range(4177):\n",
    "    if data[k][0] == 'M':\n",
    "        data[k][0] = 1\n",
    "    if data[k][0] == 'F':\n",
    "        data[k][0] = 2\n",
    "    if data[k][0] == 'I':\n",
    "        data[k][0] = 0\n",
    "data = [list(map(float, grp)) for grp in data]\n",
    "data = np.asarray(data)\n",
    "data.shape"
   ]
  },
  {
   "cell_type": "code",
   "execution_count": 90,
   "metadata": {
    "collapsed": false
   },
   "outputs": [
    {
     "data": {
      "text/plain": [
       "((4177, 8), (4177, 1))"
      ]
     },
     "execution_count": 90,
     "metadata": {},
     "output_type": "execute_result"
    }
   ],
   "source": [
    "X = data[:,1:]\n",
    "T = data[:,0:1]\n",
    "X.shape,T.shape"
   ]
  },
  {
   "cell_type": "code",
   "execution_count": 91,
   "metadata": {
    "collapsed": true
   },
   "outputs": [],
   "source": [
    "Xname = ['Length','Diameter','Height','Whole weight','Shucked weight','Viscera weight','Shell weight','Rings']\n",
    "Tname = ['Sex']"
   ]
  },
  {
   "cell_type": "markdown",
   "metadata": {},
   "source": [
    "Apply LDA:"
   ]
  },
  {
   "cell_type": "code",
   "execution_count": 92,
   "metadata": {
    "collapsed": false,
    "scrolled": true
   },
   "outputs": [
    {
     "name": "stdout",
     "output_type": "stream",
     "text": [
      "\n",
      "Algo           Parameters  TrnAcc  ValAcc  TesAcc\n",
      "-------------------------------------------------\n",
      "LDA:                 None   55.48   54.42   52.02\n",
      "LDA:                 None   55.42   54.21   56.86\n",
      "LDA:                 None   58.04   55.83   55.93\n",
      "LDA:                 None   54.62   54.34   57.28\n",
      "LDA:                 None   55.50   54.70   57.10\n",
      "LDA:                 None   57.73   57.15   53.65\n"
     ]
    }
   ],
   "source": [
    "resultsLDA = ml.trainValidateTestKFoldsClassification( trainLDA,evaluateLDA, X,T, [None],\n",
    "                                                       nFolds=6, shuffle=False,verbose=False)\n",
    "printResults('LDA:',resultsLDA)"
   ]
  },
  {
   "cell_type": "code",
   "execution_count": 93,
   "metadata": {
    "collapsed": false
   },
   "outputs": [
    {
     "name": "stdout",
     "output_type": "stream",
     "text": [
      "[array([[-0.8015],\n",
      "       [-0.8202],\n",
      "       [-0.7537],\n",
      "       [-0.8104],\n",
      "       [-0.7585],\n",
      "       [-0.8082],\n",
      "       [-0.795 ],\n",
      "       [-0.6338]]), array([[ 0.3115],\n",
      "       [ 0.3165],\n",
      "       [ 0.2837],\n",
      "       [ 0.3319],\n",
      "       [ 0.3315],\n",
      "       [ 0.3189],\n",
      "       [ 0.3099],\n",
      "       [ 0.2394]]), array([[ 0.4589],\n",
      "       [ 0.4722],\n",
      "       [ 0.4422],\n",
      "       [ 0.4442],\n",
      "       [ 0.3912],\n",
      "       [ 0.4571],\n",
      "       [ 0.4539],\n",
      "       [ 0.3709]])]\n"
     ]
    }
   ],
   "source": [
    "lda = LDA()\n",
    "lda.train(X,T)\n",
    "print(lda.mu)"
   ]
  },
  {
   "cell_type": "code",
   "execution_count": 86,
   "metadata": {
    "collapsed": true
   },
   "outputs": [],
   "source": [
    "results = np.asarray(resultsLDA)"
   ]
  },
  {
   "cell_type": "code",
   "execution_count": 87,
   "metadata": {
    "collapsed": false,
    "scrolled": true
   },
   "outputs": [
    {
     "data": {
      "text/plain": [
       "<matplotlib.text.Text at 0x10f7c4470>"
      ]
     },
     "execution_count": 87,
     "metadata": {},
     "output_type": "execute_result"
    },
    {
     "data": {
      "image/png": "[encoded data removed]",
      "text/plain": [
       "<matplotlib.figure.Figure at 0x10fba03c8>"
      ]
     },
     "metadata": {},
     "output_type": "display_data"
    }
   ],
   "source": [
    "xaxis = range(len(results))\n",
    "plt.plot(xaxis,results[:,1],'r-',label='TrnAcc')\n",
    "plt.plot(xaxis,results[:,2],'b-',label='ValAcc')\n",
    "plt.plot(xaxis,results[:,3],'g-',label='TesAcc')\n",
    "plt.xlabel('Testing Folds')\n",
    "plt.ylabel('CorrectPencentage')"
   ]
  },
  {
   "cell_type": "markdown",
   "metadata": {},
   "source": [
    "Apply Linear Regression:"
   ]
  },
  {
   "cell_type": "code",
   "execution_count": 88,
   "metadata": {
    "collapsed": false,
    "scrolled": true
   },
   "outputs": [
    {
     "name": "stdout",
     "output_type": "stream",
     "text": [
      "\n"
     ]
    },
    {
     "name": "stderr",
     "output_type": "stream",
     "text": [
      "//anaconda/lib/python3.5/site-packages/ipykernel/__main__.py:5: DeprecationWarning: elementwise == comparison failed; this will raise an error in the future.\n"
     ]
    },
    {
     "name": "stdout",
     "output_type": "stream",
     "text": [
      "Algo           Parameters  TrnAcc  ValAcc  TesAcc\n",
      "-------------------------------------------------\n",
      " Lr:                 None   67.66    0.00    0.00\n",
      " Lr:                 None   67.78    0.00    0.00\n",
      " Lr:                 None   69.11    0.00    0.00\n",
      " Lr:                 None   69.52    0.00    0.00\n",
      " Lr:                 None   70.41    0.00    0.00\n",
      " Lr:                 None   71.39    0.00    0.00\n"
     ]
    }
   ],
   "source": [
    "resultsLr = ml.trainValidateTestKFoldsClassification( trainLr,evaluateLr, X,T, \n",
    "                                                     [None],nFolds=6, shuffle=False,verbose=False)\n",
    "printResults('Lr:',resultsLr)"
   ]
  },
  {
   "cell_type": "markdown",
   "metadata": {},
   "source": [
    "Apply Non-Linear Regression:"
   ]
  },
  {
   "cell_type": "code",
   "execution_count": 51,
   "metadata": {
    "collapsed": false
   },
   "outputs": [
    {
     "name": "stdout",
     "output_type": "stream",
     "text": [
      "\n",
      "Algo           Parameters  TrnAcc  ValAcc  TesAcc\n",
      "-------------------------------------------------\n",
      " NN:          [[10], 100]   68.56   65.54   75.78\n",
      " NN:          [[10], 100]   68.68   64.84   76.58\n",
      " NN:          [[10], 100]   70.44   66.74   70.30\n",
      " NN:          [[10], 100]   70.54   66.74   68.67\n",
      " NN:          [[10], 100]   71.76   68.34   61.57\n",
      " NN:          [[10], 100]   72.64   70.64   50.64\n"
     ]
    }
   ],
   "source": [
    "resultsNN = ml.trainValidateTestKFoldsClassification( trainNN,evaluateNN, X,T, \n",
    "                                                     [ [ [0], 10], [[10], 100] ],\n",
    "                                                     nFolds=6, shuffle=False,verbose=False)\n",
    "printResults('NN:',resultsNN)"
   ]
  },
  {
   "cell_type": "code",
   "execution_count": 52,
   "metadata": {
    "collapsed": true
   },
   "outputs": [],
   "source": [
    "results = np.asarray(resultsNN)"
   ]
  },
  {
   "cell_type": "code",
   "execution_count": 53,
   "metadata": {
    "collapsed": false
   },
   "outputs": [
    {
     "data": {
      "text/plain": [
       "<matplotlib.text.Text at 0x10f7d2f28>"
      ]
     },
     "execution_count": 53,
     "metadata": {},
     "output_type": "execute_result"
    },
    {
     "data": {
      "image/png": "[encoded data removed]",
      "text/plain": [
       "<matplotlib.figure.Figure at 0x10fb86400>"
      ]
     },
     "metadata": {},
     "output_type": "display_data"
    }
   ],
   "source": [
    "xaxis = range(len(results))\n",
    "plt.plot(xaxis,results[:,1],'r-',label='TrnAcc')\n",
    "plt.plot(xaxis,results[:,2],'b-',label='ValAcc')\n",
    "plt.plot(xaxis,results[:,3],'g-',label='TesAcc')\n",
    "plt.xlabel('Testing Folds')\n",
    "plt.ylabel('CorrectPencentage')"
   ]
  },
  {
   "cell_type": "markdown",
   "metadata": {},
   "source": [
    "## Results"
   ]
  },
  {
   "cell_type": "markdown",
   "metadata": {},
   "source": [
    "According to the output, we can find the correct percentages of LDA, linear regression and non-linear regression are almost the same for the first data set. Even the trends are almost the same. However, for the second data set, it is obvious that the correct precentages of linear and non-linear regression are higher than LDA. Also, the trend of correct percentage of test set is keeping decreasing."
   ]
  },
  {
   "cell_type": "markdown",
   "metadata": {},
   "source": [
    "## Grading\n",
    "\n",
    "Your notebook will be run and graded automatically. Download [A4grader.tar](http://www.cs.colostate.edu/~anderson/cs480/notebooks/A4grader.tar)  and extract A4grader.py from it. Run the code in the following cell to demonstrate an example grading session. You should see a perfect score of 80/100 if your functions are defined correctly. \n",
    "\n",
    "The remaining 20% will be based on your writing.  Be sure to explain each function, and details of the results summarized in the above section. "
   ]
  },
  {
   "cell_type": "code",
   "execution_count": 94,
   "metadata": {
    "collapsed": false
   },
   "outputs": [
    {
     "name": "stdout",
     "output_type": "stream",
     "text": [
      "Overwriting qdalda.py\n"
     ]
    }
   ],
   "source": [
    "%%writefile qdalda.py\n",
    "\n",
    "import numpy as np\n",
    "import sys # for sys.float_info.epsilon\n",
    "\n",
    "######################################################################\n",
    "### class QDA\n",
    "######################################################################\n",
    "\n",
    "class QDA(object):\n",
    "    \n",
    "    def __init__(self):\n",
    "        # Define all instance variables here. Not necessary\n",
    "        self.means = None\n",
    "        self.stds = None\n",
    "        self.mu = None\n",
    "        self.sigma = None\n",
    "        self.sigmaInv = None\n",
    "        self.prior = None\n",
    "        self.determinant = None\n",
    "        self.discriminantConstant = None\n",
    "\n",
    "    def train(self, X, T):\n",
    "        self.classes = np.unique(T)\n",
    "        self.means, self.stds = np.mean(X,0), np.std(X,0)\n",
    "        Xs = (X - self.means) / self.stds\n",
    "        self.mu = []\n",
    "        self.sigma = []\n",
    "        self.sigmaInv = []\n",
    "        self.determinant = []\n",
    "        self.prior = []\n",
    "        nSamples = X.shape[0]\n",
    "        for k in self.classes:\n",
    "            rowsThisClass = (T == k).reshape((-1))\n",
    "            self.mu.append( np.mean(Xs[rowsThisClass, :], 0).reshape((-1,1)) )\n",
    "            self.sigma.append( np.cov(Xs[rowsThisClass, :], rowvar=0) )\n",
    "            if self.sigma[-1].size == 1:\n",
    "                self.sigma[-1] = self.sigma[-1].reshape((1,1))\n",
    "            det = np.linalg.det(self.sigma[-1])\n",
    "            if det == 0:\n",
    "                det = sys.float_info.epsilon\n",
    "            self.determinant.append( det )\n",
    "            self.sigmaInv.append( np.linalg.pinv(self.sigma[-1]) )    # pinv in case Sigma is singular\n",
    "            self.prior.append( np.sum(rowsThisClass) / float(nSamples) )\n",
    "        self._finishTrain()\n",
    "\n",
    "    def _finishTrain(self):\n",
    "        self.discriminantConstant = []\n",
    "        for ki in range(len(self.classes)):\n",
    "            self.discriminantConstant.append( np.log(self.prior[ki]) - 0.5*np.log(self.determinant[ki]) )\n",
    "\n",
    "    def use(self,X):\n",
    "        nSamples = X.shape[0]\n",
    "        Xs = (X - self.means) / self.stds\n",
    "        discriminants,probabilities = self._discriminantFunction(Xs)\n",
    "        predictedClass = self.classes[np.argmax( discriminants, axis=1 )]\n",
    "        predictedClass = predictedClass.reshape((-1, 1))\n",
    "        D = X.shape[1]\n",
    "        return predictedClass, probabilities, discriminants\n",
    "\n",
    "    def _discriminantFunction(self, Xs):\n",
    "        nSamples = Xs.shape[0]\n",
    "        discriminants = np.zeros((nSamples, len(self.classes)))\n",
    "        for ki in range(len(self.classes)):\n",
    "            Xc = Xs - self.mu[ki]\n",
    "            discriminants[:,ki:ki+1] = self.discriminantConstant[ki] - 0.5 * \\\n",
    "                                       np.sum(np.dot(Xc, self.sigmaInv[ki]) * Xc, axis=1).reshape((-1,1))\n",
    "        probabilities = np.exp( discriminants - 0.5*D*np.log(2*np.pi) )\n",
    "        return discriminants, probabilities\n",
    "        \n",
    "    def __repr__(self):\n",
    "        if self.mu is None:\n",
    "            return 'QDA not trained.'\n",
    "        else:\n",
    "            return 'QDA trained for classes {}'.format(self.classes)\n",
    "\n",
    "######################################################################\n",
    "### class LDA\n",
    "######################################################################\n",
    "\n",
    "class LDA(QDA):\n",
    "\n",
    "    def _finishTrain(self):\n",
    "        self.sigmaMean = np.sum(np.stack(self.sigma) * np.array(self.prior)[:,np.newaxis,np.newaxis], axis=0)\n",
    "        self.sigmaMeanInv = np.linalg.pinv(self.sigmaMean)\n",
    "        # print(self.sigma)\n",
    "        # print(self.sigmaMean)\n",
    "        self.discriminantConstant = []\n",
    "        self.discriminantCoefficient = []\n",
    "        for ki in range(len(self.classes)):\n",
    "            sigmaMu = np.dot(self.sigmaMeanInv, self.mu[ki])\n",
    "            self.discriminantConstant.append( -0.5 * np.dot(self.mu[ki].T, sigmaMu) )\n",
    "            self.discriminantCoefficient.append( sigmaMu )\n",
    "    \n",
    "    def _discriminantFunction(self,Xs):\n",
    "        nSamples = Xs.shape[0]\n",
    "        discriminants = np.zeros((nSamples, len(self.classes)))\n",
    "        for ki in range(len(self.classes)):\n",
    "            discriminants[:,ki:ki+1] = self.discriminantConstant[ki] + \\\n",
    "                                       np.dot(Xs, self.discriminantCoefficient[ki])\n",
    "        probabilities = np.exp( discriminants - 0.5*D*np.log(2*np.pi) - 0.5*np.log(self.determinant[ki]) \\\n",
    "                               - 0.5*np.sum(np.dot(Xs,self.sigmaMeanInv) * Xs, axis=1).reshape((-1,1)))\n",
    "        return discriminants, probabilities\n",
    "\n",
    "######################################################################\n",
    "### Example use\n",
    "######################################################################\n",
    "\n",
    "if __name__ == '__main__':\n",
    "\n",
    "    D = 1  # number of components in each sample\n",
    "    N = 10  # number of samples in each class\n",
    "    X = np.vstack((np.random.normal(0.0, 1.0, (N, D)),\n",
    "                   np.random.normal(4.0, 1.5, (N, D))))\n",
    "    T = np.vstack((np.array([1]*N).reshape((N, 1)),\n",
    "                   np.array([2]*N).reshape((N, 1))))\n",
    "\n",
    "    qda = QDA()\n",
    "    qda.train(X,T)\n",
    "    c,prob,_ = qda.use(X)\n",
    "    print('QDA', np.sum(c==T)/X.shape[0] * 100, '% correct')\n",
    "    print('{:>3s} {:>4s} {:>14s}'.format('T','Pred','prob(C=k|x)'))\n",
    "    for row in np.hstack((T,c,prob)):\n",
    "        print('{:3.0f} {:3.0f} {:8.4f} {:8.4f}'.format(*row))\n",
    "\n",
    "    lda = LDA()\n",
    "    lda.train(X,T)\n",
    "    c,prob,d = lda.use(X)\n",
    "    print('LDA', np.sum(c==T)/X.shape[0] * 100, '% correct')\n",
    "    print('{:>3s} {:>4s} {:>14s}'.format('T','Pred','prob(C=k|x)'))\n",
    "    for row in np.hstack((T,c,prob)):\n",
    "        print('{:3.0f} {:3.0f} {:8.4f} {:8.4f}'.format(*row))"
   ]
  },
  {
   "cell_type": "code",
   "execution_count": 95,
   "metadata": {
    "collapsed": false
   },
   "outputs": [
    {
     "name": "stdout",
     "output_type": "stream",
     "text": [
      "\n",
      "   Testing   model = trainLDA(X,T)\n",
      "             accuracy = evaluateLDA(model,X,T)\n",
      "\n",
      "20/20 points. Accuracy is within 10 of correct value 50%\n",
      "\n",
      "   Testing   model = trainNN(X,T, [[5],100])\n",
      "             accuracy = evaluateNN(model,X,T)\n",
      "\n",
      "30/30 points. Accuracy is within 10 of correct value 100%\n",
      "\n",
      "  Testing\n",
      "    resultsNN = ml.trainValidateTestKFoldsClassification( trainNN,evaluateNN, X,T, \n",
      "                                                          [ [ [0], 5], [ [10], 100] ],\n",
      "                                                          nFolds=3, shuffle=False,verbose=False)\n",
      "    bestParms = [row[0] for row in resultsNN]\n",
      "\n",
      "\n",
      "30/30 points. You correctly find the best parameters to be [[10],100] for each fold.\n",
      "\n",
      "CS480 CODING GRADE is 80/80\n",
      "\n",
      "CS480 WRITING GRADE is ??/20\n",
      "\n",
      "CS480 FINAL GRADE is ??/100\n",
      "\n",
      "Remember, this python script is just an example of how your code will be graded.\n",
      "Do not be satisfied with an 80% from running this script.  Write and run additional\n",
      "tests of your own design.\n"
     ]
    }
   ],
   "source": [
    "%run -i A4grader.py"
   ]
  },
  {
   "cell_type": "code",
   "execution_count": null,
   "metadata": {
    "collapsed": true
   },
   "outputs": [],
   "source": []
  }
 ],
 "metadata": {
  "anaconda-cloud": {},
  "kernelspec": {
   "display_name": "Python [default]",
   "language": "python",
   "name": "python3"
  },
  "language_info": {
   "codemirror_mode": {
    "name": "ipython",
    "version": 3
   },
   "file_extension": ".py",
   "mimetype": "text/x-python",
   "name": "python",
   "nbconvert_exporter": "python",
   "pygments_lexer": "ipython3",
   "version": "3.5.2"
  }
 },
 "nbformat": 4,
 "nbformat_minor": 0
}
