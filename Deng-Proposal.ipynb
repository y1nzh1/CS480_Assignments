{
 "cells": [
  {
   "cell_type": "markdown",
   "metadata": {},
   "source": [
    "$\\newcommand{\\xv}{\\mathbf{x}}\n",
    "\\newcommand{\\Xv}{\\mathbf{X}}\n",
    "\\newcommand{\\yv}{\\mathbf{y}}\n",
    "\\newcommand{\\zv}{\\mathbf{z}}\n",
    "\\newcommand{\\av}{\\mathbf{a}}\n",
    "\\newcommand{\\Wv}{\\mathbf{W}}\n",
    "\\newcommand{\\wv}{\\mathbf{w}}\n",
    "\\newcommand{\\tv}{\\mathbf{t}}\n",
    "\\newcommand{\\Tv}{\\mathbf{T}}\n",
    "\\newcommand{\\muv}{\\boldsymbol{\\mu}}\n",
    "\\newcommand{\\sigmav}{\\boldsymbol{\\sigma}}\n",
    "\\newcommand{\\phiv}{\\boldsymbol{\\phi}}\n",
    "\\newcommand{\\Phiv}{\\boldsymbol{\\Phi}}\n",
    "\\newcommand{\\Sigmav}{\\boldsymbol{\\Sigma}}\n",
    "\\newcommand{\\Lambdav}{\\boldsymbol{\\Lambda}}\n",
    "\\newcommand{\\half}{\\frac{1}{2}}\n",
    "\\newcommand{\\argmax}[1]{\\underset{#1}{\\operatorname{argmax}}}\n",
    "\\newcommand{\\argmin}[1]{\\underset{#1}{\\operatorname{argmin}}}$"
   ]
  },
  {
   "cell_type": "markdown",
   "metadata": {},
   "source": [
    "# Project Proposal\n",
    "\n",
    "## A Classification Model For Predicting Game Results Of DOTA2"
   ]
  },
  {
   "cell_type": "markdown",
   "metadata": {},
   "source": [
    "*Aaron Deng*\n",
    "\n",
    "*CSU ID: 830888654*"
   ]
  },
  {
   "cell_type": "markdown",
   "metadata": {},
   "source": [
    "## Introduction"
   ]
  },
  {
   "cell_type": "markdown",
   "metadata": {},
   "source": [
    "Dota2 by Valve is a popular computer game with a player base of 6 million unique users. Each Dota 2 match consists of two teams of five players pitted against each other. Before a match begins, each player selects a character to play as, known as a “hero,” from a pool of 108 different heroes. Once a player chooses a hero, no other player can select that hero for the same match. Heroes have a wide-range of characteristics and abilities that, combined with the massive hero pool, make each match unique. I have played this game since I was a little child, so I am really interested to use the knowledge that I have learnt from machine learning course on this game.\n",
    "\n",
    "The data set will be divide into three set, that are train, validate, and test data set. So, I am willing to use the algorithms for classification, such as LDA, QDA, linear, and non-linear regression, to train a prediction model, so that I can predict victory or defeat in a game based on the hero-pick of two teams. What's more, from the training data, I am willing to find five key heros that contribute the most to the high rate of victory. And then, the programme will recommend players to pick them.\n",
    "\n",
    "Members of my team: Aaron Deng, Haoman Liu"
   ]
  },
  {
   "cell_type": "markdown",
   "metadata": {},
   "source": [
    "## Methods"
   ]
  },
  {
   "cell_type": "markdown",
   "metadata": {},
   "source": [
    "The data will be got from the official website of DOTA2, which includes all of the professional games since the latest version was updated. The reason why I just use the game results of the latest version is every version or every update of the parameters of heros will affect the games a lot. Thus, if I use the data of last version, the training model will no more adaptable to the new version, even may make a wrong prediction. And, choosing the professional games instead of including pub games is because professional games will have a lower randomness of hero pick, which increase the possibility of prediction.\n",
    "\n",
    "The main algorithms will be those I have learnt on the lecture of classification, like LDA, QDA, or non-linear regression. \n",
    "\n",
    "    Aaron Deng: Pre-processing the data, designing the codes and programming, evaluating and retraining the training model\n",
    "\n",
    "    Haoman Liu: Collecting the data, design the frame of software display"
   ]
  },
  {
   "cell_type": "markdown",
   "metadata": {},
   "source": [
    "## Possible Results\n",
    "\n",
    "Given the hero pick of two teams, one named 'Radiant' and the other named 'Dire'. And the hero's number are unique from 1 - 108. So the possible result will be like:\n",
    "\n",
    "Hero Pick Recommendation: [37, 66, 82, 104, 108]\n",
    "\n",
    "Radiant: [2, 18, 74, 62, 30]\n",
    "\n",
    "Dire: [100, 52, 6, 8, 74]\n",
    "\n",
    "Chance of Radiant wins based on the hero pick : 30%"
   ]
  },
  {
   "cell_type": "markdown",
   "metadata": {},
   "source": [
    "## Timeline\n",
    "\n",
    "Make a list with at least four entries with dates and describe what each team member will accomplish by these dates.  This is for your use.  Your grade will not depend on meeting these deadlines."
   ]
  },
  {
   "cell_type": "markdown",
   "metadata": {},
   "source": [
    "April 10 - 14 : \n",
    "    \n",
    "    Main functions are programmed and debugged.(Aaron Deng) / Data is searched and collected online.(Haoman Liu)\n",
    "\n",
    "April 17 - 21 : \n",
    "\n",
    "    Establish the training set and the training model, evaluate the error by applying it on the validate set. If not satisfied, retrain it.(Aaron Deng) / Start to design the frame of the software display\n",
    "    \n",
    "April 24 - 28 : \n",
    "\n",
    "    Finish coding and start to use the final version of training model on the prediction. Compare the results with my knowledge.(Aaron Deng) / Finish designing the software appearance.(Haoman Liu)\n",
    "    \n",
    "May 1 - 5 : \n",
    "\n",
    "    Integrate the works of two team members together, and final debugging."
   ]
  }
 ],
 "metadata": {
  "anaconda-cloud": {},
  "kernelspec": {
   "display_name": "Python [conda root]",
   "language": "python",
   "name": "conda-root-py"
  },
  "language_info": {
   "codemirror_mode": {
    "name": "ipython",
    "version": 3
   },
   "file_extension": ".py",
   "mimetype": "text/x-python",
   "name": "python",
   "nbconvert_exporter": "python",
   "pygments_lexer": "ipython3",
   "version": "3.5.2"
  }
 },
 "nbformat": 4,
 "nbformat_minor": 0
}
