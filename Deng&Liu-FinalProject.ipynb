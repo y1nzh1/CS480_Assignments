{
 "cells": [
  {
   "cell_type": "markdown",
   "metadata": {},
   "source": [
    "# Dota2 Prediction System \n",
    "### Final project of CS-480\n",
    "#### Team members: Aaron Deng (CSU ID: 830888654), Haoman Liu (CSU ID: 830878658)"
   ]
  },
  {
   "cell_type": "markdown",
   "metadata": {},
   "source": [
    "This project is about to make a prediction system that can predict the results of games if the heros pick of two teams are given. The data is collected from https://www.kaggle.com/devinanzelmo/dota-2-matches and the non-linear classification algorithms are used in this program, such as LDA and Neural Network. The final result will be shown by displaying two teams and who wins the game."
   ]
  },
  {
   "cell_type": "markdown",
   "metadata": {},
   "source": [
    "What we did:\n",
    "\n",
    "    Aaron Deng (design code part): \n",
    "    Pre-processing the data, designing the codes and programming, evaluating and retraining the training model\n",
    "\n",
    "    Haoman Liu (participate in coding and design display part): \n",
    "    Participate in Pre-processing the data and evaluating the results, collecting the data on the website, design the  frame of software display"
   ]
  },
  {
   "cell_type": "markdown",
   "metadata": {},
   "source": [
    "## Introduction"
   ]
  },
  {
   "cell_type": "markdown",
   "metadata": {},
   "source": [
    "Dota2 is a great game that has attracted a large number of people for a decade. Each Dota 2 match consists of two teams of five players pitted against each other. Before a match begins, each player selects a character to play as, known as a “hero” from a pool of 106 different heroes. Once a player chooses a hero, no other player can select that hero for the same match. Heroes have a wide-range of characteristics and abilities that, combined with the massive hero pool, make each match unique.\n",
    "\n",
    "Dota2 is so complicated that it is more like a professional sport, instead of just a simple game that everyone can play well, so as this game developing, the analysis of what heros that two teams should pick and how different hero picks will affect to the result becomes more and more important to a game.So that is why I decide to make a prediction system to assist professional players to pick heros.\n",
    "\n",
    "The data are collected from https://www.kaggle.com/devinanzelmo/dota-2-matches. This website contains thousands of games results of Dota2, including match number, players ID, the hero picks, and other important details.\n",
    "\n",
    "The machine learning approaches I used include LDA classification and neural network classification algorithms. Beside the game result prediction, the report will also has some observations of different classification algorithms, like the errors comparison and the improvement of various parameters setting."
   ]
  },
  {
   "cell_type": "markdown",
   "metadata": {},
   "source": [
    "## Method"
   ]
  },
  {
   "cell_type": "markdown",
   "metadata": {},
   "source": [
    "### Data Source"
   ]
  },
  {
   "cell_type": "markdown",
   "metadata": {},
   "source": [
    "The data is acquired from website https://www.kaggle.com/devinanzelmo/dota-2-matches, and there are 19 files including all of the important informations that are related to the Dota2 games. In order to achieve the goal of building a game results prediction system, three files are downloaded and processed - that are 'hero_names.csv', 'match.csv', and 'players.csv'.\n",
    "\n",
    "Here are some process of data management:"
   ]
  },
  {
   "cell_type": "code",
   "execution_count": 1,
   "metadata": {
    "collapsed": true
   },
   "outputs": [],
   "source": [
    "import numpy as np\n",
    "import matplotlib.pyplot as plt\n",
    "import neuralnetworks as nn\n",
    "import mlutils as ml\n",
    "import qdalda as ql\n",
    "%matplotlib inline"
   ]
  },
  {
   "cell_type": "markdown",
   "metadata": {},
   "source": [
    "#### 1. Hero_names.csv"
   ]
  },
  {
   "cell_type": "markdown",
   "metadata": {},
   "source": [
    "The 'hero_names.csv' includes all of the Dota2 hero names and their ID numbers. Because all of other files are using hero's ID numbers to store the relevant informations, we need to change hero's ID numbers to their real names, in order to have a more obvious view of the advantage or disadvantage of two teams' hero-pick."
   ]
  },
  {
   "cell_type": "code",
   "execution_count": 52,
   "metadata": {
    "collapsed": true
   },
   "outputs": [],
   "source": [
    "# Import the data file\n",
    "hero_names = []\n",
    "with open('/Users/yinzhideng/Documents/CS480/Dota2_Prediction/hero_names.csv') as f:\n",
    "    for line in f:\n",
    "        hero_names.append(line.strip().split(','))"
   ]
  },
  {
   "cell_type": "code",
   "execution_count": 53,
   "metadata": {
    "collapsed": false
   },
   "outputs": [
    {
     "data": {
      "text/plain": [
       "[['name', 'hero_id', 'localized_name'],\n",
       " ['npc_dota_hero_antimage', '1', 'Anti-Mage'],\n",
       " ['npc_dota_hero_axe', '2', 'Axe'],\n",
       " ['npc_dota_hero_bane', '3', 'Bane'],\n",
       " ['npc_dota_hero_bloodseeker', '4', 'Bloodseeker'],\n",
       " ['npc_dota_hero_crystal_maiden', '5', 'Crystal Maiden'],\n",
       " ['npc_dota_hero_drow_ranger', '6', 'Drow Ranger'],\n",
       " ['npc_dota_hero_earthshaker', '7', 'Earthshaker'],\n",
       " ['npc_dota_hero_juggernaut', '8', 'Juggernaut']]"
      ]
     },
     "execution_count": 53,
     "metadata": {},
     "output_type": "execute_result"
    }
   ],
   "source": [
    "# Have a preview of data\n",
    "hero_names[0:9]"
   ]
  },
  {
   "cell_type": "markdown",
   "metadata": {},
   "source": [
    "As the data shown above, the first row that is the attribute name and the first column are useless, so we need to delete them."
   ]
  },
  {
   "cell_type": "code",
   "execution_count": 54,
   "metadata": {
    "collapsed": false
   },
   "outputs": [
    {
     "data": {
      "text/plain": [
       "array([['1', 'Anti-Mage'],\n",
       "       ['2', 'Axe'],\n",
       "       ['3', 'Bane'],\n",
       "       ['4', 'Bloodseeker'],\n",
       "       ['5', 'Crystal Maiden'],\n",
       "       ['6', 'Drow Ranger'],\n",
       "       ['7', 'Earthshaker'],\n",
       "       ['8', 'Juggernaut'],\n",
       "       ['9', 'Mirana']], \n",
       "      dtype='<U33')"
      ]
     },
     "execution_count": 54,
     "metadata": {},
     "output_type": "execute_result"
    }
   ],
   "source": [
    "hero_names = np.asarray(hero_names)[1:,1:] # delete the first row and column\n",
    "hero_names[0:9, :]"
   ]
  },
  {
   "cell_type": "code",
   "execution_count": 55,
   "metadata": {
    "collapsed": false
   },
   "outputs": [
    {
     "data": {
      "text/plain": [
       "(112, 2)"
      ]
     },
     "execution_count": 55,
     "metadata": {},
     "output_type": "execute_result"
    }
   ],
   "source": [
    "hero_names.shape"
   ]
  },
  {
   "cell_type": "code",
   "execution_count": 56,
   "metadata": {
    "collapsed": false
   },
   "outputs": [
    {
     "name": "stdout",
     "output_type": "stream",
     "text": [
      "Drow Ranger\n"
     ]
    }
   ],
   "source": [
    "# now the hero's name will be shown if the ID is given\n",
    "# for example\n",
    "hero_id = 6\n",
    "heroname = hero_names[hero_id - 1, 1] # the ID number - 1 will be the index of hero's name\n",
    "print(heroname)"
   ]
  },
  {
   "cell_type": "markdown",
   "metadata": {},
   "source": [
    "#### 2. Players.csv"
   ]
  },
  {
   "cell_type": "markdown",
   "metadata": {},
   "source": [
    "For 'players.csv' file, after the preview of it, we know that the first row is the attribute names, which includes almost of the detailed data of games, such as match ID, hero ID (heros that used in this game), account ID (players' ID that attend to this game), gold (gold acquired by each player), and etc."
   ]
  },
  {
   "cell_type": "code",
   "execution_count": 6,
   "metadata": {
    "collapsed": true
   },
   "outputs": [],
   "source": [
    "players = []\n",
    "with open('/Users/yinzhideng/Documents/CS480/Dota2_Prediction/players.csv') as f:\n",
    "    for line in f:\n",
    "        players.append(line.strip().split(','))"
   ]
  },
  {
   "cell_type": "code",
   "execution_count": 7,
   "metadata": {
    "collapsed": false
   },
   "outputs": [],
   "source": [
    "players = players[1:] # delete the first row of attribute names\n",
    "players = np.asarray(players) # convert list to numpy array"
   ]
  },
  {
   "cell_type": "code",
   "execution_count": 8,
   "metadata": {
    "collapsed": true
   },
   "outputs": [],
   "source": [
    "# the attributes are too many while we just need two columns of it\n",
    "# the matchs' IDs and heros' IDs\n",
    "matchID_heroID = players[:, (0,2)]\n",
    "matchID_heroID = matchID_heroID.astype(int)"
   ]
  },
  {
   "cell_type": "code",
   "execution_count": 9,
   "metadata": {
    "collapsed": false
   },
   "outputs": [
    {
     "data": {
      "text/plain": [
       "array([[    0,    86],\n",
       "       [    0,    51],\n",
       "       [    0,    83],\n",
       "       ..., \n",
       "       [49999,    90],\n",
       "       [49999,    73],\n",
       "       [49999,    53]])"
      ]
     },
     "execution_count": 9,
     "metadata": {},
     "output_type": "execute_result"
    }
   ],
   "source": [
    "# first column is the 5000 matchs' IDs that expand to 50000 because there are ten players in a game\n",
    "# second column is the heros' IDs\n",
    "matchID_heroID"
   ]
  },
  {
   "cell_type": "markdown",
   "metadata": {},
   "source": [
    "#### 3. Match.csv "
   ]
  },
  {
   "cell_type": "markdown",
   "metadata": {},
   "source": [
    "In 'match.csv' file, several informations of two teams in a game are given, like match ID, game modes, tower status of two teams, and the most important one - if team radian wins, that is shown as 'True' or 'False'. We will use two attributes of this file, the match IDs and the status of radian wins, to build the target values - the results of games."
   ]
  },
  {
   "cell_type": "code",
   "execution_count": 10,
   "metadata": {
    "collapsed": true
   },
   "outputs": [],
   "source": [
    "match = []\n",
    "with open('/Users/yinzhideng/Documents/CS480/Dota2_Prediction/match.csv') as f:\n",
    "    for line in f:\n",
    "        match.append(line.strip().split(','))"
   ]
  },
  {
   "cell_type": "code",
   "execution_count": 11,
   "metadata": {
    "collapsed": true
   },
   "outputs": [],
   "source": [
    "# delete the first row, which is the attribute names, and convert it from list to numpy array\n",
    "match = np.asarray(match[1:])\n",
    "# use the first column and the tenth column, that are match IDs and status of radian wins\n",
    "match_result = match[:, (0, 9)]"
   ]
  },
  {
   "cell_type": "code",
   "execution_count": 12,
   "metadata": {
    "collapsed": false
   },
   "outputs": [
    {
     "data": {
      "text/plain": [
       "array([['0', 'True'],\n",
       "       ['1', 'False'],\n",
       "       ['2', 'False'],\n",
       "       ..., \n",
       "       ['49997', 'True'],\n",
       "       ['49998', 'True'],\n",
       "       ['49999', 'False']], \n",
       "      dtype='<U10')"
      ]
     },
     "execution_count": 12,
     "metadata": {},
     "output_type": "execute_result"
    }
   ],
   "source": [
    "match_result"
   ]
  },
  {
   "cell_type": "markdown",
   "metadata": {},
   "source": [
    "### Build input data and target value"
   ]
  },
  {
   "cell_type": "markdown",
   "metadata": {},
   "source": [
    "We decide the input data will include ten columns that one row has ten heros attending in one games, the first five columns are set as the hero IDs of team radian and five columns left are set as the hero IDs of team dire. For target value - T, it will be set as '0' or '1'. '0' represents team radian loses and team dire wins, and '1' represents team radian wins and team dire loses."
   ]
  },
  {
   "cell_type": "markdown",
   "metadata": {},
   "source": [
    "#### 1. Input data"
   ]
  },
  {
   "cell_type": "code",
   "execution_count": 13,
   "metadata": {
    "collapsed": false
   },
   "outputs": [
    {
     "data": {
      "text/plain": [
       "array([[ 86,  51,  83, ...,  46,   7,  73],\n",
       "       [  7,  82,  71, ...,   5,  67, 106],\n",
       "       [ 51, 109,   9, ...,  10,  12,  85],\n",
       "       ..., \n",
       "       [100,  68,  75, ...,  21,   9,  23],\n",
       "       [ 56,  50,   2, ...,  29,  44,   3],\n",
       "       [ 94,  19,  68, ...,  90,  73,  53]])"
      ]
     },
     "execution_count": 13,
     "metadata": {},
     "output_type": "execute_result"
    }
   ],
   "source": [
    "hero_pick = []\n",
    "for x in range(matchID_heroID.shape[0]):\n",
    "    hero_pick.append(matchID_heroID[x, 1])\n",
    "hero_pick = np.asarray(hero_pick)\n",
    "hero_pick = hero_pick.reshape((int(hero_pick.shape[0]/10), 10)) # let each row includes all the heros of a game\n",
    "hero_pick"
   ]
  },
  {
   "cell_type": "code",
   "execution_count": 14,
   "metadata": {
    "collapsed": false
   },
   "outputs": [
    {
     "name": "stdout",
     "output_type": "stream",
     "text": [
      "Earthshaker\n",
      "Treant Protector\n",
      "Gyrocopter\n",
      "Venomancer\n",
      "Windranger\n",
      "Invoker\n",
      "Zeus\n",
      "Crystal Maiden\n",
      "Ancient Apparition\n",
      "Earth Spirit\n"
     ]
    }
   ],
   "source": [
    "# if we want to see the hero-picks in one game, we can do:\n",
    "gameID = 1\n",
    "second_game = hero_pick[gameID]\n",
    "for i in range(10):\n",
    "    print(hero_names[second_game[i] - 1, 1])\n",
    "\n",
    "# the first five heros are in team radian and other five heros are in team dire"
   ]
  },
  {
   "cell_type": "markdown",
   "metadata": {},
   "source": [
    "#### 2. Target values"
   ]
  },
  {
   "cell_type": "markdown",
   "metadata": {},
   "source": [
    "In this part, we decide to use the second column of match_result, which are represented as 'True' or 'False'. We are not necessary to deal with the first column, the match IDs, because the match IDs have been already matched exactly. However, we still need to convert the 'True' and 'False' into '1' and '0', so that we can do analysis and processing using machine learning algorithms."
   ]
  },
  {
   "cell_type": "code",
   "execution_count": 15,
   "metadata": {
    "collapsed": false
   },
   "outputs": [
    {
     "name": "stdout",
     "output_type": "stream",
     "text": [
      "[['True']\n",
      " ['False']\n",
      " ['False']\n",
      " ..., \n",
      " ['True']\n",
      " ['True']\n",
      " ['False']]\n"
     ]
    },
    {
     "data": {
      "text/plain": [
       "array([[1],\n",
       "       [0],\n",
       "       [0],\n",
       "       ..., \n",
       "       [1],\n",
       "       [1],\n",
       "       [0]])"
      ]
     },
     "execution_count": 15,
     "metadata": {},
     "output_type": "execute_result"
    }
   ],
   "source": [
    "game_results = match_result[:,1:]\n",
    "print(game_results)\n",
    "for i in range(game_results.shape[0]):\n",
    "    if game_results[i, 0] == 'True':\n",
    "        game_results[i, 0] = 1\n",
    "    else:\n",
    "        game_results[i, 0] = 0\n",
    "game_results = game_results.astype(int)\n",
    "game_results"
   ]
  },
  {
   "cell_type": "markdown",
   "metadata": {},
   "source": [
    "## Required functions"
   ]
  },
  {
   "cell_type": "markdown",
   "metadata": {},
   "source": [
    "Because the purpose of this project mainly is applying classification algorithms of machine learning approaches that I learnt on the class and tried on previous assignments on the data of Dota2 game results. So several various classification algorithms will be used, like LDA classification, and non-linear classification using neural network."
   ]
  },
  {
   "cell_type": "markdown",
   "metadata": {},
   "source": [
    "### 1. LDA"
   ]
  },
  {
   "cell_type": "code",
   "execution_count": 16,
   "metadata": {
    "collapsed": true
   },
   "outputs": [],
   "source": [
    "import numpy as np\n",
    "import sys # for sys.float_info.epsilon\n",
    "\n",
    "######################################################################\n",
    "### class QDA\n",
    "######################################################################\n",
    "\n",
    "class LDA(object):\n",
    "    \n",
    "    def __init__(self):\n",
    "        # Define all instance variables here. Not necessary\n",
    "        self.means = None\n",
    "        self.stds = None\n",
    "        self.mu = None\n",
    "        self.sigma = None\n",
    "        self.sigmaInv = None\n",
    "        self.prior = None\n",
    "        self.determinant = None\n",
    "        self.discriminantConstant = None\n",
    "\n",
    "    def train(self,X,T):\n",
    "        self.classes = np.unique(T)\n",
    "        self.means, self.stds = np.mean(X,0), np.std(X,0)\n",
    "        Xs = (X - self.means) / self.stds\n",
    "        self.mu = []\n",
    "        self.sigma = []\n",
    "        self.sigmaInv = []\n",
    "        self.determinant = []\n",
    "        self.prior = []\n",
    "        nSamples = X.shape[0]\n",
    "        for k in self.classes:\n",
    "            rowsThisClass = (T == k).reshape((-1))\n",
    "            self.mu.append( np.mean(Xs[rowsThisClass,:],0).reshape((-1,1)) )\n",
    "            self.sigma.append( np.cov(Xs[rowsThisClass,:],rowvar=0) )\n",
    "            if self.sigma[-1].size == 1:\n",
    "                self.sigma[-1] = self.sigma[-1].reshape((1,1))\n",
    "            det = np.linalg.det(self.sigma[-1])\n",
    "            if det == 0:\n",
    "                det = sys.float_info.epsilon\n",
    "            self.determinant.append( det )\n",
    "            self.sigmaInv.append( np.linalg.pinv(self.sigma[-1]) )    # pinv in case Sigma is singular\n",
    "            self.prior.append( np.sum(rowsThisClass) / float(nSamples) )\n",
    "        self._finishTrain()\n",
    "\n",
    "    def _finishTrain(self):\n",
    "        self.sigmaMean = np.sum(np.stack(self.sigma) * np.array(self.prior)[:,np.newaxis,np.newaxis], axis=0)\n",
    "        self.sigmaMeanInv = np.linalg.pinv(self.sigmaMean)\n",
    "        # print(self.sigma)\n",
    "        # print(self.sigmaMean)\n",
    "        self.discriminantConstant = []\n",
    "        self.discriminantCoefficient = []\n",
    "        for ki in range(len(self.classes)):\n",
    "            sigmaMu = np.dot(self.sigmaMeanInv, self.mu[ki])\n",
    "            self.discriminantConstant.append( -0.5 * np.dot(self.mu[ki].T, sigmaMu) )\n",
    "            self.discriminantCoefficient.append( sigmaMu )\n",
    "    \n",
    "    def _discriminantFunction(self,Xs):\n",
    "        D = Xs.shape[0]\n",
    "        nSamples = Xs.shape[0]\n",
    "        discriminants = np.zeros((nSamples, len(self.classes)))\n",
    "        for ki in range(len(self.classes)):\n",
    "            discriminants[:,ki:ki+1] = self.discriminantConstant[ki] + \\\n",
    "                                       np.dot(Xs, self.discriminantCoefficient[ki])\n",
    "        probabilities = np.exp( discriminants - 0.5*D*np.log(2*np.pi) - 0.5*np.log(self.determinant[ki]) \\\n",
    "                               - 0.5*np.sum(np.dot(Xs,self.sigmaMeanInv) * Xs, axis=1).reshape((-1,1)))\n",
    "        return discriminants, probabilities\n",
    "    def use(self,X):\n",
    "        nSamples = X.shape[0]\n",
    "        Xs = (X - self.means) / self.stds\n",
    "        discriminants,probabilities = self._discriminantFunction(Xs)\n",
    "        predictedClass = self.classes[np.argmax( discriminants, axis=1 )]\n",
    "        predictedClass = predictedClass.reshape((-1,1))\n",
    "        D = X.shape[1]\n",
    "        return predictedClass,probabilities,discriminants\n",
    "        \n",
    "    def __repr__(self):\n",
    "        if self.mu is None:\n",
    "            return 'QDA not trained.'\n",
    "        else:\n",
    "            return 'QDA trained for classes {}'.format(self.classes)"
   ]
  },
  {
   "cell_type": "code",
   "execution_count": 17,
   "metadata": {
    "collapsed": true
   },
   "outputs": [],
   "source": [
    "def trainLDA(X,T,parameters = None):\n",
    "    lda = LDA()\n",
    "    lda.mu = parameters\n",
    "    lda.train(X,T)\n",
    "    return lda"
   ]
  },
  {
   "cell_type": "code",
   "execution_count": 18,
   "metadata": {
    "collapsed": true
   },
   "outputs": [],
   "source": [
    "def evaluateLDA(model,X,T):\n",
    "    pClass,prob,disc = model.use(X)\n",
    "    #percentCorrect = np.sum(T==pClass) / float(T.shape[0]) * 100\n",
    "    return np.sum(T==pClass) / float(T.shape[0]) * 100"
   ]
  },
  {
   "cell_type": "markdown",
   "metadata": {},
   "source": [
    "### 2. Neural network classifier"
   ]
  },
  {
   "cell_type": "code",
   "execution_count": 19,
   "metadata": {
    "collapsed": true
   },
   "outputs": [],
   "source": [
    "def trainNN(X,T,parameters):\n",
    "    # the layer number of the inputs and the outputs depends on their elements\n",
    "    input_layer = X.shape[1]\n",
    "    output_layer = len(np.unique(T))\n",
    "    nnet = nn.NeuralNetworkClassifier(input_layer,parameters[0],output_layer)\n",
    "    #nnet = nn.NeuralNetwork(1,parameters[0],1)\n",
    "    return nnet.train(X, T, nIterations=parameters[1])"
   ]
  },
  {
   "cell_type": "code",
   "execution_count": 20,
   "metadata": {
    "collapsed": true
   },
   "outputs": [],
   "source": [
    "def evaluateNN(model,X,T):\n",
    "    predict = model.use(X)\n",
    "    #error = np.sqrt(np.mean((predict - T) ** 2))\n",
    "    #for k in range(len(model)):\n",
    "    #    model[k] = int(model[k])\n",
    "    return np.sum(predict==T) / float(len(T)) * 100"
   ]
  },
  {
   "cell_type": "markdown",
   "metadata": {},
   "source": [
    "### 3. Other useful functions"
   ]
  },
  {
   "cell_type": "code",
   "execution_count": 21,
   "metadata": {
    "collapsed": true
   },
   "outputs": [],
   "source": [
    "def printResults(label,results):\n",
    "    print('{:4s} {:>20s}{:>8s}{:>8s}{:>8s}'.format('Algo','Parameters','TrnAcc','ValAcc','TesAcc'))\n",
    "    print('-------------------------------------------------')\n",
    "    for row in results:\n",
    "        # 20 is expected maximum number of characters in printed parameter value list\n",
    "        print('{:>4s} {:>20s} {:7.2f} {:7.2f} {:7.2f}'.format(label,str(row[0]),*row[1:]))"
   ]
  },
  {
   "cell_type": "markdown",
   "metadata": {},
   "source": [
    "## Results"
   ]
  },
  {
   "cell_type": "code",
   "execution_count": 22,
   "metadata": {
    "collapsed": true
   },
   "outputs": [],
   "source": [
    "# establish input data X and target value T\n",
    "X = hero_pick\n",
    "T = game_results"
   ]
  },
  {
   "cell_type": "markdown",
   "metadata": {},
   "source": [
    "### 1. Recommand hero-pick"
   ]
  },
  {
   "cell_type": "markdown",
   "metadata": {},
   "source": [
    "In Dota2 professional games, we usually use a game mode called captain mode, which means each team has a captain and all of the hero-pick are decided by this team captain. So, in this part, we want to give a recommandation hero-pick choices that will increase the win rate to the captain before the game start.\n",
    "\n",
    "To achieve it, we need to collect the hero-pick of all the team radian if the results show they win, also collect the hero-pick of all the team dire if the results show they win."
   ]
  },
  {
   "cell_type": "code",
   "execution_count": 23,
   "metadata": {
    "collapsed": false
   },
   "outputs": [
    {
     "data": {
      "text/plain": [
       "((25943, 5), (24057, 5), (50000, 10))"
      ]
     },
     "execution_count": 23,
     "metadata": {},
     "output_type": "execute_result"
    }
   ],
   "source": [
    "# if team radian wins, store the hero IDs of first five columns\n",
    "X_radianwin = X[np.where(np.any(T == 1, axis = 1))][:, 0:5]\n",
    "# if team dire wins, store the hero IDs of last five columns\n",
    "X_direwin = X[np.where(np.any(T == 0, axis = 1))][:, 5:]\n",
    "X_radianwin.shape, X_direwin.shape, X.shape"
   ]
  },
  {
   "cell_type": "code",
   "execution_count": 24,
   "metadata": {
    "collapsed": false
   },
   "outputs": [
    {
     "name": "stdout",
     "output_type": "stream",
     "text": [
      "[21, 11, 74, 28, 7]\n",
      "Windranger\n",
      "Shadow Fiend\n",
      "Silencer\n",
      "Tidehunter\n",
      "Earthshaker\n"
     ]
    }
   ],
   "source": [
    "# combine the hero-pick of high win rate together\n",
    "X_win = np.append(X_radianwin, X_direwin, axis = 0)[:,0]\n",
    "# find which five heros appears the most\n",
    "hero_freq = np.bincount(X_win)\n",
    "hero_recom = []\n",
    "for i in range(5):\n",
    "    index = np.argmax(hero_freq)\n",
    "    hero_recom.append(index)\n",
    "    hero_freq[index] = 0\n",
    "print(hero_recom)\n",
    "for i in range(5):\n",
    "    print(hero_names[hero_recom[i] - 1, 1])"
   ]
  },
  {
   "cell_type": "markdown",
   "metadata": {},
   "source": [
    "As we see, the recommanded hero-pick will be 'windrange, shadow fiend, silencer, tidehunter, earthshaker', which are pretty convincible. On my opinion, as a experienced Dota player, this is indeed is a good choice of hero-pick."
   ]
  },
  {
   "cell_type": "markdown",
   "metadata": {},
   "source": [
    "### 2. Game result prediction"
   ]
  },
  {
   "cell_type": "markdown",
   "metadata": {},
   "source": [
    "In this part, our goal is to make a good prediction of a game if the hero-pick of both two teams are given. To achieve it, we need to apply different classiication algorithms on the data to train a effective model."
   ]
  },
  {
   "cell_type": "markdown",
   "metadata": {},
   "source": [
    "#### Apply LDA"
   ]
  },
  {
   "cell_type": "code",
   "execution_count": 25,
   "metadata": {
    "collapsed": false
   },
   "outputs": [
    {
     "name": "stdout",
     "output_type": "stream",
     "text": [
      "\n",
      "Algo           Parameters  TrnAcc  ValAcc  TesAcc\n",
      "-------------------------------------------------\n",
      "LDA:                 None   50.69   50.40   50.56\n",
      "LDA:                 None   50.45   50.31   50.59\n",
      "LDA:                 None   51.02   50.58   50.62\n",
      "LDA:                 None   50.65   50.43   50.44\n",
      "LDA:                 None   50.39   50.37   50.05\n",
      "LDA:                 None   50.71   50.51   50.15\n"
     ]
    }
   ],
   "source": [
    "# like I did in previous assignment, use trainValidateTestKFoldsClassification function to see the result\n",
    "resultsLDA = ml.trainValidateTestKFoldsClassification( trainLDA,evaluateLDA, X,T, [None],\n",
    "                                                       nFolds=6, shuffle=False,verbose=False)\n",
    "printResults('LDA:',resultsLDA)"
   ]
  },
  {
   "cell_type": "code",
   "execution_count": 26,
   "metadata": {
    "collapsed": true
   },
   "outputs": [],
   "source": [
    "results = np.asarray(resultsLDA)"
   ]
  },
  {
   "cell_type": "code",
   "execution_count": 27,
   "metadata": {
    "collapsed": false
   },
   "outputs": [
    {
     "data": {
      "text/plain": [
       "<matplotlib.text.Text at 0x16c108898>"
      ]
     },
     "execution_count": 27,
     "metadata": {},
     "output_type": "execute_result"
    },
    {
     "data": {
      "image/png": "[encoded data removed]",
      "text/plain": [
       "<matplotlib.figure.Figure at 0x10abd63c8>"
      ]
     },
     "metadata": {},
     "output_type": "display_data"
    }
   ],
   "source": [
    "xaxis = range(len(results))\n",
    "plt.plot(xaxis,results[:,1],'r-',label='TrnAcc')\n",
    "plt.plot(xaxis,results[:,2],'b-',label='ValAcc')\n",
    "plt.plot(xaxis,results[:,3],'g-',label='TesAcc')\n",
    "plt.xlabel('Testing Folds')\n",
    "plt.ylabel('CorrectPencentage')"
   ]
  },
  {
   "cell_type": "markdown",
   "metadata": {},
   "source": [
    "From the list and the plot of the result, it seems the success rate of the train model using LDA classification is not high enough and stay stably around 50%. What is more, changing the number of folds does no help to increase the success rate."
   ]
  },
  {
   "cell_type": "markdown",
   "metadata": {},
   "source": [
    "#### Apply neural network classifier"
   ]
  },
  {
   "cell_type": "code",
   "execution_count": 28,
   "metadata": {
    "collapsed": false
   },
   "outputs": [
    {
     "name": "stdout",
     "output_type": "stream",
     "text": [
      "\n",
      "Algo           Parameters  TrnAcc  ValAcc  TesAcc\n",
      "-------------------------------------------------\n",
      " NN:            [[0], 10]   76.39   72.44   86.62\n",
      " NN:            [[0], 10]   77.54   72.89   84.36\n",
      " NN:            [[0], 10]   78.58   73.52   81.18\n",
      " NN:            [[0], 10]   79.52   74.48   76.39\n",
      " NN:            [[0], 10]   80.39   76.09   68.33\n",
      " NN:            [[0], 10]   81.18   79.38   51.91\n"
     ]
    }
   ],
   "source": [
    "resultsNN1 = ml.trainValidateTestKFoldsClassification( trainNN,evaluateNN, X,T, \n",
    "                                                     [ [ [0], 10], [[0], 200]],\n",
    "                                                     nFolds=6, shuffle=False,verbose=False)\n",
    "printResults('NN:',resultsNN1)"
   ]
  },
  {
   "cell_type": "code",
   "execution_count": 29,
   "metadata": {
    "collapsed": false
   },
   "outputs": [
    {
     "name": "stdout",
     "output_type": "stream",
     "text": [
      "\n",
      "Algo           Parameters  TrnAcc  ValAcc  TesAcc\n",
      "-------------------------------------------------\n",
      " NN:            [[0], 10]   76.39   72.44   86.62\n",
      " NN:            [[0], 10]   77.54   72.89   84.36\n",
      " NN:            [[0], 10]   78.58   73.52   81.18\n",
      " NN:            [[0], 10]   79.52   74.48   76.39\n",
      " NN:            [[0], 10]   80.39   76.09   68.33\n",
      " NN:            [[0], 10]   81.18   79.38   51.91\n"
     ]
    }
   ],
   "source": [
    "resultsNN2 = ml.trainValidateTestKFoldsClassification( trainNN,evaluateNN, X,T, \n",
    "                                                     [ [ [0], 10], [[50], 10]],\n",
    "                                                     nFolds=6, shuffle=False,verbose=False)\n",
    "printResults('NN:',resultsNN2)"
   ]
  },
  {
   "cell_type": "code",
   "execution_count": 30,
   "metadata": {
    "collapsed": false
   },
   "outputs": [
    {
     "name": "stdout",
     "output_type": "stream",
     "text": [
      "\n",
      "Algo           Parameters  TrnAcc  ValAcc  TesAcc\n",
      "-------------------------------------------------\n",
      " NN:            [[0], 10]   61.80   59.64   76.39\n",
      " NN:            [[0], 10]   68.32   63.52   68.32\n",
      " NN:            [[0], 10]   72.94   72.36   51.89\n"
     ]
    }
   ],
   "source": [
    "resultsNN3 = ml.trainValidateTestKFoldsClassification( trainNN,evaluateNN, X,T, \n",
    "                                                     [ [ [0], 10]],\n",
    "                                                     nFolds=3, shuffle=False,verbose=False)\n",
    "printResults('NN:',resultsNN3)"
   ]
  },
  {
   "cell_type": "code",
   "execution_count": 31,
   "metadata": {
    "collapsed": false
   },
   "outputs": [
    {
     "name": "stdout",
     "output_type": "stream",
     "text": [
      "\n",
      "Algo           Parameters  TrnAcc  ValAcc  TesAcc\n",
      "-------------------------------------------------\n",
      " NN:            [[0], 10]   84.36   79.71   91.52\n",
      " NN:            [[0], 10]   84.65   79.81   90.66\n",
      " NN:            [[0], 10]   84.93   79.92   89.62\n",
      " NN:            [[0], 10]   85.19   80.07   88.31\n",
      " NN:            [[0], 10]   85.45   80.26   86.62\n",
      " NN:            [[0], 10]   85.70   80.51   84.36\n",
      " NN:            [[0], 10]   85.94   80.86   81.19\n",
      " NN:            [[0], 10]   86.17   81.39   76.40\n",
      " NN:            [[0], 10]   86.40   82.29   68.34\n",
      " NN:            [[0], 10]   86.62   84.11   51.92\n"
     ]
    }
   ],
   "source": [
    "resultsNN4 = ml.trainValidateTestKFoldsClassification( trainNN,evaluateNN, X,T, \n",
    "                                                     [ [ [0], 10]],\n",
    "                                                     nFolds=10, shuffle=False,verbose=False)\n",
    "printResults('NN:',resultsNN4)"
   ]
  },
  {
   "cell_type": "markdown",
   "metadata": {},
   "source": [
    "For the neural network classifier algorithm, I modified the parameter set to see which one will be the best. First, I maintained the hidden layers and set iteration number as 10 and 200, and the fold number are increased from 1 to 6. The result shows the parameter set [[0], 10] is the best when the fold number is 1. In addition, from the correct rate of the test data is reduced as the fold number is increased.\n",
    "\n",
    "Then, I maintain the iteration number stably as 10 and change the hidden layer number, the result was absolutely same. The parameter set [[0], 10] is always the best.\n",
    "\n",
    "Last, I set parameter set as [[[0], 10]] but modifying the fold number as 3 and 10, in order to see if the fold number will affect the correct rate. Depend on the previous knowledge, higher the fold number, higher the correct rate will be. Like our assumption, when the fold number is 10, the correct rate of test fold will reach 91.52%, that is a very good result."
   ]
  },
  {
   "cell_type": "code",
   "execution_count": 32,
   "metadata": {
    "collapsed": true
   },
   "outputs": [],
   "source": [
    "results = np.asarray(resultsNN4)"
   ]
  },
  {
   "cell_type": "code",
   "execution_count": 33,
   "metadata": {
    "collapsed": false
   },
   "outputs": [
    {
     "data": {
      "text/plain": [
       "<matplotlib.text.Text at 0x16c159e80>"
      ]
     },
     "execution_count": 33,
     "metadata": {},
     "output_type": "execute_result"
    },
    {
     "data": {
      "image/png": "[encoded data removed]",
      "text/plain": [
       "<matplotlib.figure.Figure at 0x10cd80278>"
      ]
     },
     "metadata": {},
     "output_type": "display_data"
    }
   ],
   "source": [
    "xaxis = range(len(results))\n",
    "plt.plot(xaxis,results[:,1],'r-',label='TrnAcc')\n",
    "plt.plot(xaxis,results[:,2],'b-',label='ValAcc')\n",
    "plt.plot(xaxis,results[:,3],'g-',label='TesAcc')\n",
    "plt.xlabel('Testing Folds')\n",
    "plt.ylabel('CorrectPencentage')"
   ]
  },
  {
   "cell_type": "markdown",
   "metadata": {},
   "source": [
    "The plot shows that as the fold numbers increasing, the correct rates of the train and validate fold are increased slightly, while for the test fold, the correct rate reaches the highest when it is 0. This tells us when the test fold is the first fold, the correct rate will be the best."
   ]
  },
  {
   "cell_type": "markdown",
   "metadata": {},
   "source": [
    "#### Training model using best parameter"
   ]
  },
  {
   "cell_type": "code",
   "execution_count": 38,
   "metadata": {
    "collapsed": false
   },
   "outputs": [],
   "source": [
    "train_num = int((9 / 10) * X.shape[0]) # fold number is 10\n",
    "# establish training data and testing data\n",
    "X_train = X[0: train_num, :]\n",
    "T_train = T[0: train_num, :]\n",
    "X_test = X[train_num: , :]\n",
    "T_test = T[train_num: , :]"
   ]
  },
  {
   "cell_type": "code",
   "execution_count": 49,
   "metadata": {
    "collapsed": false
   },
   "outputs": [
    {
     "name": "stdout",
     "output_type": "stream",
     "text": [
      "[0 1 0 1 1 0 0 1 0 0 1 0 1 0 0 0 1 0 0 1 0 0 0 1 1 1 1 1 0 0 0 0 0 0 1 0 1\n",
      " 0 0 0 1 0 0 1 1 1 1 0 0]\n",
      "[1 1 1 1 0 0 1 1 1 0 0 1 0 0 1 1 1 1 0 1 1 1 0 1 1 1 1 1 1 1 0 1 1 0 1 0 1\n",
      " 0 1 1 1 1 0 0 1 0 1 1 0]\n"
     ]
    }
   ],
   "source": [
    "model = trainNN(X_train, T_train, [[10], 200])\n",
    "predict = model.use(X_test)\n",
    "print(T_test[0:49, 0])\n",
    "print(predict[0:49, 0])"
   ]
  },
  {
   "cell_type": "markdown",
   "metadata": {
    "collapsed": false
   },
   "source": [
    "Then try a random hero-pick of two teams to see the prediction result."
   ]
  },
  {
   "cell_type": "code",
   "execution_count": 80,
   "metadata": {
    "collapsed": false,
    "scrolled": true
   },
   "outputs": [
    {
     "name": "stdout",
     "output_type": "stream",
     "text": [
      "[[ 62  88  83 101 108  32  61  15 105 109]]\n",
      "Team Radian:\n",
      "Jakiro\n",
      "Keeper of the Light\n",
      "Undying\n",
      "Elder Titan\n",
      "Phoenix\n",
      "\n",
      "\n",
      "Team Dire:\n",
      "Tinker\n",
      "Weaver\n",
      "Sand King\n",
      "Earth Spirit\n",
      "Oracle\n",
      "[[0]]\n",
      "Dire win\n"
     ]
    }
   ],
   "source": [
    "hero_range = np.arange(112)\n",
    "np.random.shuffle(hero_range) # build a non-repetitive random int array for the random hero-pick\n",
    "given_heropick = hero_range[0:10].reshape((1, 10)) # only use the first ten int because two teams use only ten heros\n",
    "#print(given_heropick)\n",
    "for i in range(10):\n",
    "    if i == 0:\n",
    "        print('Team Radian:')\n",
    "    if i == 5:\n",
    "        print('\\n')\n",
    "    if i == 5:\n",
    "        print('Team Dire:')\n",
    "    print(hero_names[given_heropick[0,i], 1])\n",
    "#print(given_heropick.shape)\n",
    "predict_result = model.use(given_heropick)\n",
    "print(predict_result)\n",
    "if predict_result == 1:\n",
    "    print('Radian win')\n",
    "else:\n",
    "    print('Dire win')"
   ]
  },
  {
   "cell_type": "code",
   "execution_count": 81,
   "metadata": {
    "collapsed": false
   },
   "outputs": [
    {
     "name": "stdout",
     "output_type": "stream",
     "text": [
      "Team Radian:\n",
      "Dazzle\n",
      "Silencer\n",
      "Lycan\n",
      "Drow Ranger\n",
      "Riki\n",
      "\n",
      "\n",
      "Team Dire:\n",
      "Phantom Lancer\n",
      "Bane\n",
      "Techies\n",
      "Rubick\n",
      "Queen of Pain\n",
      "[[1]]\n",
      "Radian win\n"
     ]
    }
   ],
   "source": [
    "hero_range = np.arange(112)\n",
    "np.random.shuffle(hero_range) # build a non-repetitive random int array for the random hero-pick\n",
    "given_heropick = hero_range[0:10].reshape((1, 10)) # only use the first ten int because two teams use only ten heros\n",
    "#print(given_heropick)\n",
    "for i in range(10):\n",
    "    if i == 0:\n",
    "        print('Team Radian:')\n",
    "    if i == 5:\n",
    "        print('\\n')\n",
    "    if i == 5:\n",
    "        print('Team Dire:')\n",
    "    print(hero_names[given_heropick[0,i], 1])\n",
    "#print(given_heropick.shape)\n",
    "predict_result = model.use(given_heropick)\n",
    "print(predict_result)\n",
    "if predict_result == 1:\n",
    "    print('Radian win')\n",
    "else:\n",
    "    print('Dire win')"
   ]
  },
  {
   "cell_type": "markdown",
   "metadata": {},
   "source": [
    "From this results, we can see the prediction is pretty reasonable, due to my experience of Dota2."
   ]
  },
  {
   "cell_type": "markdown",
   "metadata": {},
   "source": [
    "## Conclusion"
   ]
  },
  {
   "cell_type": "markdown",
   "metadata": {},
   "source": [
    "In this project, I built a Dota2 results prediction system, which can help the professional players to have a good knowledge of their hero-pick and the most possible result of the game. This could be used as giving the hero-pick decision that the captain wants to make, and this prediction system will give a possible result that can help the captain adjust his decision and increase the win rate. In addition, this prediction system also can give a recommandation hero-pick to the team captains assisting them to choose the high-win-rate hero first if it is not been banned. Choosing a high-win-rate hero will do a great help to increase the win rate of your team.\n",
    "\n",
    "To achieve it, I collected 50000 samples of Dota2 games to build a training model. And I use some different classification algorithms of machine learning that I have learnt on class, like LDA classification and neural network classifier. I compared these various algorithms to find which one fit the data better. Beside, focusing on neural network classifier, I also modified the parameter set and fold numbers, in order to find the best parameter set and use them to establish train model.\n",
    "\n",
    "From all of the work I did, I have a deeper understanding of the differences of different classification algorithm. I know the best algorithm will various if various data are studied. For example, for the data that has a good linearity, linear classification algorithm will be a better choice. While for the data of Dota2 game, a non-linear classification algorithm like neural network classifier will be a better choice, because the relationship between hero IDs and results is obviously non-linear.\n",
    "\n",
    "What's more, the effect of modification of parameters is significant to the training model. Like the comparison I did in this project, the range of win rate is large if parameter set is different.\n",
    "\n",
    "In conclusion, in the future study of machine learning, I will have a further and better study of the effect of various algorithms on different data.\n",
    "\n",
    "*Machine learning is so cool and so interesting!*"
   ]
  },
  {
   "cell_type": "code",
   "execution_count": null,
   "metadata": {
    "collapsed": true
   },
   "outputs": [],
   "source": []
  }
 ],
 "metadata": {
  "anaconda-cloud": {},
  "kernelspec": {
   "display_name": "Python [conda root]",
   "language": "python",
   "name": "conda-root-py"
  },
  "language_info": {
   "codemirror_mode": {
    "name": "ipython",
    "version": 3
   },
   "file_extension": ".py",
   "mimetype": "text/x-python",
   "name": "python",
   "nbconvert_exporter": "python",
   "pygments_lexer": "ipython3",
   "version": "3.5.2"
  }
 },
 "nbformat": 4,
 "nbformat_minor": 1
}
